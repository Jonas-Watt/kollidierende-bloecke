{
 "cells": [
  {
   "cell_type": "markdown",
   "metadata": {
    "colab_type": "text",
    "id": "-DH2Bevkd1C3"
   },
   "source": [
    "# Kollidierende Blöcke\n",
    "\n",
    "Inspiriert von [3Blue1Browns video](https://www.youtube.com/watch?v=HEfHFsfGXjs)\n",
    "\n",
    "[![3Blue1Browns video](http://img.youtube.com/vi/HEfHFsfGXjs/0.jpg)](http://www.youtube.com/watch?v=HEfHFsfGXjs)"
   ]
  },
  {
   "cell_type": "markdown",
   "metadata": {
    "colab_type": "text",
    "id": "P74e_63ad1C4"
   },
   "source": [
    "## Initialisierung"
   ]
  },
  {
   "cell_type": "code",
   "execution_count": 1,
   "metadata": {
    "colab": {},
    "colab_type": "code",
    "id": "_GPYgdhKd1C6"
   },
   "outputs": [],
   "source": [
    "import math\n",
    "import matplotlib.pyplot as plt\n",
    "%matplotlib inline\n",
    "# Masse\n",
    "m_1 = 1\n",
    "m_2 = None\n",
    "# Block 1\n",
    "v_1 = 0\n",
    "u_1 = None\n",
    "# Block 2\n",
    "v_2 = -1\n",
    "u_2 = None\n",
    "# Listen für den Graph\n",
    "lst_v_1 = []\n",
    "lst_v_2 = []"
   ]
  },
  {
   "cell_type": "markdown",
   "metadata": {
    "colab_type": "text",
    "id": "mYW8EXLid1C_"
   },
   "source": [
    "## Kollision\n",
    "\n",
    "Die Geschwindigkeiten der Blöcke nach der Kollision $u_1$ und $u_2$ können aus den Geschwindigkeiten vor der Kollision $v_1$ und $v_2$ und den Massen $m_1$ und $m_2$ der Blöcke berechnet werden.\n",
    "\n",
    "$$u_1 = v_1 \\frac{m_1-m_2}{m_1+m_2} + v_2 \\frac{2m_2}{m_1+m_2}$$\n",
    "\n",
    "$$u_2 = v_1 \\frac{2m_1}{m_1+m_2} + v_2 \\frac{m_2-m_1}{m_1+m_2}$$"
   ]
  },
  {
   "cell_type": "code",
   "execution_count": 2,
   "metadata": {
    "colab": {},
    "colab_type": "code",
    "id": "o6puwNNJd1DA"
   },
   "outputs": [],
   "source": [
    "# Kollision zweier Blöcke\n",
    "def kollision(v_1, v_2, m_1, m_2):\n",
    "    # v_1, v_2 == Anfangsgeschwindigkeiten\n",
    "    # u_1, u_2 == resultierende Geschwindigkeiten\n",
    "    global u_1\n",
    "    global u_2\n",
    "    u_1 = v_1 * ((m_1-m_2) / (m_1+m_2)) + v_2 * (2*m_2 / (m_1+m_2))\n",
    "    u_2 = v_1 * (2*m_1 / (m_1+m_2)) + v_2 * ((m_2-m_1) / (m_1+m_2))"
   ]
  },
  {
   "cell_type": "markdown",
   "metadata": {
    "colab_type": "text",
    "id": "Tl1GnCh1d1DE"
   },
   "source": [
    "## Entwicklung der beiden Blöcke\n",
    "\n",
    "Kollisionen der beiden Blöcke untereinander und mit der Wand, bis sich beide Blöcke in die selbe Richtung bewegen, sodass es keine Kollision mehr geben kann."
   ]
  },
  {
   "cell_type": "code",
   "execution_count": 3,
   "metadata": {
    "colab": {},
    "colab_type": "code",
    "id": "YjoPW-oqd1DF"
   },
   "outputs": [],
   "source": [
    "# Entwicklung der Anfangsbedingungen\n",
    "def ablauf_kollision(v_1, v_2, m_1, m_2):\n",
    "    # Anzahl der Kollisionen\n",
    "    n = 0\n",
    "    lst_v_1 = []\n",
    "    lst_v_2 = []\n",
    "    while True:\n",
    "        # Kollision der Blöcke\n",
    "        kollision(v_1, v_2, m_1, m_2)\n",
    "        n += 1\n",
    "        lst_v_1.append(u_1)\n",
    "        lst_v_2.append(u_2)\n",
    "        if u_1 < u_2 and u_2 >= 0 and u_1 >= 0:\n",
    "            return n, lst_v_1, lst_v_2\n",
    "        # Kollision von Block mit Wand\n",
    "        v_1 = -u_1\n",
    "        v_2 = u_2\n",
    "        n += 1\n",
    "        lst_v_1.append(v_1)\n",
    "        lst_v_2.append(v_2)\n",
    "        if v_1 < v_2 and v_2 >= 0 and v_1 >= 0:\n",
    "            return n, lst_v_1, lst_v_2"
   ]
  },
  {
   "cell_type": "markdown",
   "metadata": {
    "colab_type": "text",
    "id": "jJoy_0YXd1DI"
   },
   "source": [
    "## Pi-Kandidaten\n",
    "\n",
    "Wenn das Verhältnis der Masse der Blöcke $\\frac{m_1}{m_2}=100^{1-a}$, beträgt die Anzahl der Kollisionen die ersten $a$ Ziffern von $\\pi$."
   ]
  },
  {
   "cell_type": "code",
   "execution_count": 4,
   "metadata": {
    "colab": {
     "base_uri": "https://localhost:8080/",
     "height": 238
    },
    "colab_type": "code",
    "executionInfo": {
     "elapsed": 2673,
     "status": "ok",
     "timestamp": 1562520313979,
     "user": {
      "displayName": "Jonas Wattendorff",
      "photoUrl": "https://lh6.googleusercontent.com/-m44NwHdrsCo/AAAAAAAAAAI/AAAAAAAAI6I/zKCgZhJNa_k/s64/photo.jpg",
      "userId": "05476558019290381058"
     },
     "user_tz": -120
    },
    "id": "kZFh0H9Md1DJ",
    "outputId": "82d2253c-a8b4-48e6-8ee3-d3e5318ff987"
   },
   "outputs": [
    {
     "name": "stdout",
     "output_type": "stream",
     "text": [
      "-> 3\n",
      "   10\n",
      "-> 31\n",
      "   99\n",
      "-> 314\n",
      "   993\n",
      "-> 3141\n",
      "   9934\n",
      "-> 31415\n",
      "   99345\n",
      "-> 314159\n",
      "   993458\n",
      "-> 3141592\n"
     ]
    }
   ],
   "source": [
    "# 10er-Potenzen durchgehen\n",
    "for a in range(0,13):\n",
    "    # Masse\n",
    "    m_2 = 10**a\n",
    "    # Geschwindigkeit zurücksetzen\n",
    "    v_1 = 0\n",
    "    v_2 = -1\n",
    "    # Anzahl der Kollisionen\n",
    "    n = ablauf_kollision(v_1, v_2, m_1, m_2)[0]\n",
    "    # Pi-Kandidaten\n",
    "    if a%2 == 0:\n",
    "        print(\"->\", n)\n",
    "    else:\n",
    "        print(\"  \", n)\n",
    "    "
   ]
  },
  {
   "cell_type": "markdown",
   "metadata": {},
   "source": [
    "## Graph der Geschwindigkeiten"
   ]
  },
  {
   "cell_type": "code",
   "execution_count": 14,
   "metadata": {},
   "outputs": [
    {
     "data": {
      "image/png": "[encoded data removed]",
      "text/plain": [
       "<Figure size 432x288 with 1 Axes>"
      ]
     },
     "metadata": {
      "needs_background": "light"
     },
     "output_type": "display_data"
    }
   ],
   "source": [
    "m_2 = 100\n",
    "# Datenpunkte importieren\n",
    "v = ablauf_kollision(0, -1, 1, m_2)\n",
    "# Momentum berechnen\n",
    "lst_p_1 = v[1]\n",
    "lst_p_2 = [math.sqrt(m_2) * i for i in v[2]]\n",
    "# Graph erstellen\n",
    "plt.plot(lst_p_2, lst_p_1)\n",
    "plt.axes().set_aspect('equal')\n",
    "# Kreis\n",
    "kreis = plt.Circle((0,0), math.sqrt(m_2), fill=False)\n",
    "ax = plt.gca()\n",
    "ax.add_patch(kreis)\n",
    "plt.axis('scaled')\n",
    "\n",
    "plt.show()"
   ]
  },
  {
   "cell_type": "code",
   "execution_count": 46,
   "metadata": {},
   "outputs": [
    {
     "data": {
      "image/png": "[encoded data removed]",
      "text/plain": [
       "<Figure size 720x432 with 1 Axes>"
      ]
     },
     "metadata": {
      "needs_background": "light"
     },
     "output_type": "display_data"
    },
    {
     "data": {
      "text/plain": [
       "<Figure size 720x720 with 0 Axes>"
      ]
     },
     "metadata": {},
     "output_type": "display_data"
    }
   ],
   "source": [
    "m_2 = 100\n",
    "# Datenpunkte importieren\n",
    "v = ablauf_kollision(0, -1, 1, m_2)\n",
    "# Momentum berechnen\n",
    "lst_p_1 = v[1]\n",
    "lst_p_2 = [math.sqrt(m_2) * i for i in v[2]]\n",
    "# Plot\n",
    "fig, ax = plt.subplots(subplot_kw={'aspect': 'equal'})\n",
    "# Graph\n",
    "plt.plot(lst_p_2, lst_p_1, marker='o')\n",
    "# Kreis\n",
    "kreis = plt.Circle((0,0), math.sqrt(m_2), fill=False)\n",
    "ax.add_artist(kreis)\n",
    "\n",
    "plt.figure(figsize=(10, 10))\n",
    "\n",
    "plt.show()"
   ]
  }
 ],
 "metadata": {
  "colab": {
   "name": "Kollidierende Blöcke.ipynb",
   "provenance": [],
   "toc_visible": true,
   "version": "0.3.2"
  },
  "kernelspec": {
   "display_name": "Python 3",
   "language": "python",
   "name": "python3"
  },
  "language_info": {
   "codemirror_mode": {
    "name": "ipython",
    "version": 3
   },
   "file_extension": ".py",
   "mimetype": "text/x-python",
   "name": "python",
   "nbconvert_exporter": "python",
   "pygments_lexer": "ipython3",
   "version": "3.7.3"
  }
 },
 "nbformat": 4,
 "nbformat_minor": 2
}
